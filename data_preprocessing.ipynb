{
 "cells": [
  {
   "cell_type": "code",
   "execution_count": 5,
   "metadata": {},
   "outputs": [],
   "source": [
    "import pandas as pd\n",
    "import json"
   ]
  },
  {
   "cell_type": "code",
   "execution_count": 6,
   "metadata": {},
   "outputs": [],
   "source": [
    "def load_jsonl_files(file_path: str):\n",
    "    \"\"\"\n",
    "    Load multiple JSONL files from a directory pattern.\n",
    "    \n",
    "    Args:\n",
    "        file_path: file path for the text jsonl data\n",
    "    \n",
    "    Returns:\n",
    "        A dictionary where keys are filenames (without path) and values are lists of parsed JSON objects\n",
    "    \"\"\"\n",
    "    data = []\n",
    "        \n",
    "    with open(file_path, 'r', encoding='utf-8') as file:\n",
    "        for line in file:\n",
    "            try:\n",
    "                data.append(json.loads(line))\n",
    "            except json.JSONDecodeError as e:\n",
    "                print(f\"Error on line: {line}\")\n",
    "                print(f\"Error details: {e}\")\n",
    "    return data"
   ]
  },
  {
   "cell_type": "code",
   "execution_count": 10,
   "metadata": {},
   "outputs": [
    {
     "data": {
      "text/plain": [
       "{'_meta': {'retrieved_2nd_on': 1735435077},\n",
       " 'all_awardings': [],\n",
       " 'approved_at_utc': None,\n",
       " 'approved_by': None,\n",
       " 'archived': False,\n",
       " 'associated_award': None,\n",
       " 'author': 'No_Seaworthiness9278',\n",
       " 'author_flair_background_color': None,\n",
       " 'author_flair_css_class': None,\n",
       " 'author_flair_richtext': [],\n",
       " 'author_flair_template_id': None,\n",
       " 'author_flair_text': None,\n",
       " 'author_flair_text_color': None,\n",
       " 'author_flair_type': 'text',\n",
       " 'author_fullname': 't2_5mzxik23',\n",
       " 'author_is_blocked': False,\n",
       " 'author_patreon_flair': False,\n",
       " 'author_premium': False,\n",
       " 'awarders': [],\n",
       " 'banned_at_utc': None,\n",
       " 'banned_by': None,\n",
       " 'body': 'Same',\n",
       " 'can_gild': False,\n",
       " 'can_mod_post': False,\n",
       " 'collapsed': False,\n",
       " 'collapsed_because_crowd_control': None,\n",
       " 'collapsed_reason': None,\n",
       " 'collapsed_reason_code': None,\n",
       " 'comment_type': None,\n",
       " 'controversiality': 0,\n",
       " 'created': 1735305466,\n",
       " 'created_utc': 1735305466,\n",
       " 'distinguished': None,\n",
       " 'downs': 0,\n",
       " 'edited': False,\n",
       " 'gilded': 0,\n",
       " 'gildings': {},\n",
       " 'id': 'm410gks',\n",
       " 'is_submitter': False,\n",
       " 'likes': None,\n",
       " 'link_id': 't3_1hn77y4',\n",
       " 'locked': False,\n",
       " 'mod_note': None,\n",
       " 'mod_reason_by': None,\n",
       " 'mod_reason_title': None,\n",
       " 'mod_reports': [],\n",
       " 'name': 't1_m410gks',\n",
       " 'no_follow': True,\n",
       " 'num_reports': None,\n",
       " 'parent_id': 't3_1hn77y4',\n",
       " 'permalink': '/r/DeepSeek/comments/1hn77y4/cannot_login_on_the_deepseek_site/m410gks/',\n",
       " 'removal_reason': None,\n",
       " 'replies': '',\n",
       " 'report_reasons': None,\n",
       " 'retrieved_on': 1735305483,\n",
       " 'saved': False,\n",
       " 'score': 1,\n",
       " 'score_hidden': False,\n",
       " 'send_replies': True,\n",
       " 'stickied': False,\n",
       " 'subreddit': 'DeepSeek',\n",
       " 'subreddit_id': 't5_a5tk5l',\n",
       " 'subreddit_name_prefixed': 'r/DeepSeek',\n",
       " 'subreddit_type': 'public',\n",
       " 'top_awarded_type': None,\n",
       " 'total_awards_received': 0,\n",
       " 'treatment_tags': [],\n",
       " 'unrepliable_reason': None,\n",
       " 'ups': 1,\n",
       " 'user_reports': []}"
      ]
     },
     "execution_count": 10,
     "metadata": {},
     "output_type": "execute_result"
    }
   ],
   "source": [
    "deepseek_cmts  = load_jsonl_files('reddit_text_data/r_deepseek_comments.jsonl')\n",
    "deepseek_cmts[1]"
   ]
  },
  {
   "cell_type": "code",
   "execution_count": 11,
   "metadata": {},
   "outputs": [
    {
     "name": "stdout",
     "output_type": "stream",
     "text": [
      "{'_meta': {'removal_type': 'removed', 'retrieved_2nd_on': 1732288706, 'was_deleted_later': True}, 'all_awardings': [], 'approved_at_utc': None, 'approved_by': None, 'archived': False, 'associated_award': None, 'author': 'Wooden_Flamingo_4759', 'author_flair_background_color': None, 'author_flair_css_class': None, 'author_flair_richtext': [], 'author_flair_template_id': None, 'author_flair_text': None, 'author_flair_text_color': None, 'author_flair_type': 'text', 'author_fullname': 't2_1dclpy0fv6', 'author_is_blocked': False, 'author_patreon_flair': False, 'author_premium': False, 'awarders': [], 'banned_at_utc': None, 'banned_by': None, 'body': \"at least you know it won't be passed to Israel?\", 'can_gild': False, 'can_mod_post': False, 'collapsed': False, 'collapsed_because_crowd_control': None, 'collapsed_reason': None, 'collapsed_reason_code': None, 'comment_type': None, 'controversiality': 0, 'created': 1732159096, 'created_utc': 1732159096, 'distinguished': None, 'downs': 0, 'edited': False, 'gilded': 0, 'gildings': {}, 'id': 'ly70lk6', 'is_submitter': False, 'likes': None, 'link_id': 't3_1eor9l1', 'locked': False, 'mod_note': None, 'mod_reason_by': None, 'mod_reason_title': None, 'mod_reports': [], 'name': 't1_ly70lk6', 'no_follow': True, 'num_reports': None, 'parent_id': 't1_lmwpuo7', 'permalink': '/r/DeepSeek/comments/1eor9l1/deepseek_coder_v2_is_a_beast/ly70lk6/', 'removal_reason': None, 'replies': '', 'report_reasons': None, 'retrieved_on': 1732159113, 'saved': False, 'score': 1, 'score_hidden': False, 'send_replies': True, 'stickied': False, 'subreddit': 'DeepSeek', 'subreddit_id': 't5_a5tk5l', 'subreddit_name_prefixed': 'r/DeepSeek', 'subreddit_type': 'public', 'top_awarded_type': None, 'total_awards_received': 0, 'treatment_tags': [], 'unrepliable_reason': None, 'ups': 1, 'user_reports': []}\n"
     ]
    }
   ],
   "source": [
    "# read line by line\n",
    "deepseek_cmts = []\n",
    "with open('reddit_text_data/r_deepseek_comments.jsonl', 'r') as file:\n",
    "    for line in file:\n",
    "        try:\n",
    "            deepseek_cmts.append(json.loads(line))\n",
    "        except json.JSONDecodeError as e:\n",
    "            print(f\"Error on line: {line}\")\n",
    "            print(f\"Error details: {e}\")\n",
    "\n",
    "# Now you can access the data\n",
    "if deepseek_cmts:\n",
    "    print(deepseek_cmts[0])"
   ]
  },
  {
   "cell_type": "code",
   "execution_count": 27,
   "metadata": {},
   "outputs": [
    {
     "data": {
      "text/plain": [
       "32517"
      ]
     },
     "execution_count": 27,
     "metadata": {},
     "output_type": "execute_result"
    }
   ],
   "source": [
    "len(deepseek_cmts)"
   ]
  }
 ],
 "metadata": {
  "kernelspec": {
   "display_name": "macs30100",
   "language": "python",
   "name": "python3"
  },
  "language_info": {
   "codemirror_mode": {
    "name": "ipython",
    "version": 3
   },
   "file_extension": ".py",
   "mimetype": "text/x-python",
   "name": "python",
   "nbconvert_exporter": "python",
   "pygments_lexer": "ipython3",
   "version": "3.12.4"
  }
 },
 "nbformat": 4,
 "nbformat_minor": 2
}
